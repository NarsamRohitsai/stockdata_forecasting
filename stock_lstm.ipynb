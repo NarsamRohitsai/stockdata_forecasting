{
  "nbformat": 4,
  "nbformat_minor": 0,
  "metadata": {
    "colab": {
      "provenance": []
    },
    "kernelspec": {
      "name": "python3",
      "display_name": "Python 3"
    },
    "language_info": {
      "name": "python"
    }
  },
  "cells": [
    {
      "cell_type": "markdown",
      "source": [
        "**This project focuses on forecasting stock prices using Long Short-Term Memory (LSTM) networks, a type of recurrent neural network (RNN) designed to handle sequential data and long-term dependencies. The dataset consisted of stock price data spanning 4.5 years. After preprocessing and preparing the time series data, the LSTM model was trained to understand the complex temporal relationships and trends present in the stock market. The model was then used to predict stock price movements for a future period of 0.5 years (6 months)**.\n",
        "\n",
        "**The objective was to evaluate the effectiveness of LSTM in capturing the nonlinear patterns and temporal dependencies of stock price data, offering insights into its potential for mid-term financial forecasting. Comparative performance metrics and visualizations were employed to validate the predictive accuracy and reliability of the model. **\n"
      ],
      "metadata": {
        "id": "fBcNNMhREQt8"
      }
    },
    {
      "cell_type": "markdown",
      "source": [
        "Import Libraries"
      ],
      "metadata": {
        "id": "jwzyUd0GyZpt"
      }
    },
    {
      "cell_type": "code",
      "source": [
        "import math\n",
        "import numpy as np\n",
        "import pandas as pd\n",
        "from sklearn.preprocessing import MinMaxScaler\n",
        "from keras.models import Sequential\n",
        "from keras.layers import Dense, LSTM\n",
        "import matplotlib.pyplot as plt\n",
        "plt.style.use('fivethirtyeight')\n",
        "from ast import mod\n",
        "import matplotlib.dates as mdates\n",
        "from sklearn.metrics import mean_squared_error\n",
        "from sklearn.metrics import mean_absolute_error\n",
        "from sklearn.metrics import r2_score\n"
      ],
      "metadata": {
        "id": "eImgcAo0Ey-A"
      },
      "execution_count": 3,
      "outputs": []
    },
    {
      "cell_type": "markdown",
      "source": [
        "Connecting to Google Drive"
      ],
      "metadata": {
        "id": "F3hd-Rt5ygE4"
      }
    },
    {
      "cell_type": "code",
      "source": [
        "# Get the stock Quote\n",
        "from google.colab import drive\n",
        "drive.mount('/content/drive')\n",
        "\n"
      ],
      "metadata": {
        "colab": {
          "base_uri": "https://localhost:8080/"
        },
        "id": "_85OIU8UFHF9",
        "outputId": "99cf9996-6420-4955-9809-d92a2c97b9aa"
      },
      "execution_count": 2,
      "outputs": [
        {
          "output_type": "stream",
          "name": "stdout",
          "text": [
            "Mounted at /content/drive\n"
          ]
        }
      ]
    },
    {
      "cell_type": "code",
      "source": [
        "path = '/content/drive/MyDrive/TSLA.csv'"
      ],
      "metadata": {
        "id": "il7y9tpMFySn"
      },
      "execution_count": 4,
      "outputs": []
    },
    {
      "cell_type": "code",
      "source": [
        "data = pd.read_csv(path)\n",
        "start_date = '2015-01-01'\n",
        "end_date = '2020-12-31'\n",
        "data['Date'] = pd.to_datetime(data['Date'])\n",
        "data_1 = data[(data['Date']>= start_date) & (data['Date']<= end_date)]\n",
        "df = data_1[['Date','Adj Close']]\n",
        "df = df.set_index('Date')\n",
        "df.head()"
      ],
      "metadata": {
        "colab": {
          "base_uri": "https://localhost:8080/",
          "height": 238
        },
        "id": "ZsviEfmaGRO3",
        "outputId": "4c04d8b4-2aca-49a3-d6f6-7e089c3ad4c2"
      },
      "execution_count": 5,
      "outputs": [
        {
          "output_type": "execute_result",
          "data": {
            "text/plain": [
              "            Adj Close\n",
              "Date                 \n",
              "2015-01-02  43.862000\n",
              "2015-01-05  42.018002\n",
              "2015-01-06  42.256001\n",
              "2015-01-07  42.189999\n",
              "2015-01-08  42.124001"
            ],
            "text/html": [
              "\n",
              "  <div id=\"df-26523cba-a137-4f83-9d77-04021d42ec54\" class=\"colab-df-container\">\n",
              "    <div>\n",
              "<style scoped>\n",
              "    .dataframe tbody tr th:only-of-type {\n",
              "        vertical-align: middle;\n",
              "    }\n",
              "\n",
              "    .dataframe tbody tr th {\n",
              "        vertical-align: top;\n",
              "    }\n",
              "\n",
              "    .dataframe thead th {\n",
              "        text-align: right;\n",
              "    }\n",
              "</style>\n",
              "<table border=\"1\" class=\"dataframe\">\n",
              "  <thead>\n",
              "    <tr style=\"text-align: right;\">\n",
              "      <th></th>\n",
              "      <th>Adj Close</th>\n",
              "    </tr>\n",
              "    <tr>\n",
              "      <th>Date</th>\n",
              "      <th></th>\n",
              "    </tr>\n",
              "  </thead>\n",
              "  <tbody>\n",
              "    <tr>\n",
              "      <th>2015-01-02</th>\n",
              "      <td>43.862000</td>\n",
              "    </tr>\n",
              "    <tr>\n",
              "      <th>2015-01-05</th>\n",
              "      <td>42.018002</td>\n",
              "    </tr>\n",
              "    <tr>\n",
              "      <th>2015-01-06</th>\n",
              "      <td>42.256001</td>\n",
              "    </tr>\n",
              "    <tr>\n",
              "      <th>2015-01-07</th>\n",
              "      <td>42.189999</td>\n",
              "    </tr>\n",
              "    <tr>\n",
              "      <th>2015-01-08</th>\n",
              "      <td>42.124001</td>\n",
              "    </tr>\n",
              "  </tbody>\n",
              "</table>\n",
              "</div>\n",
              "    <div class=\"colab-df-buttons\">\n",
              "\n",
              "  <div class=\"colab-df-container\">\n",
              "    <button class=\"colab-df-convert\" onclick=\"convertToInteractive('df-26523cba-a137-4f83-9d77-04021d42ec54')\"\n",
              "            title=\"Convert this dataframe to an interactive table.\"\n",
              "            style=\"display:none;\">\n",
              "\n",
              "  <svg xmlns=\"http://www.w3.org/2000/svg\" height=\"24px\" viewBox=\"0 -960 960 960\">\n",
              "    <path d=\"M120-120v-720h720v720H120Zm60-500h600v-160H180v160Zm220 220h160v-160H400v160Zm0 220h160v-160H400v160ZM180-400h160v-160H180v160Zm440 0h160v-160H620v160ZM180-180h160v-160H180v160Zm440 0h160v-160H620v160Z\"/>\n",
              "  </svg>\n",
              "    </button>\n",
              "\n",
              "  <style>\n",
              "    .colab-df-container {\n",
              "      display:flex;\n",
              "      gap: 12px;\n",
              "    }\n",
              "\n",
              "    .colab-df-convert {\n",
              "      background-color: #E8F0FE;\n",
              "      border: none;\n",
              "      border-radius: 50%;\n",
              "      cursor: pointer;\n",
              "      display: none;\n",
              "      fill: #1967D2;\n",
              "      height: 32px;\n",
              "      padding: 0 0 0 0;\n",
              "      width: 32px;\n",
              "    }\n",
              "\n",
              "    .colab-df-convert:hover {\n",
              "      background-color: #E2EBFA;\n",
              "      box-shadow: 0px 1px 2px rgba(60, 64, 67, 0.3), 0px 1px 3px 1px rgba(60, 64, 67, 0.15);\n",
              "      fill: #174EA6;\n",
              "    }\n",
              "\n",
              "    .colab-df-buttons div {\n",
              "      margin-bottom: 4px;\n",
              "    }\n",
              "\n",
              "    [theme=dark] .colab-df-convert {\n",
              "      background-color: #3B4455;\n",
              "      fill: #D2E3FC;\n",
              "    }\n",
              "\n",
              "    [theme=dark] .colab-df-convert:hover {\n",
              "      background-color: #434B5C;\n",
              "      box-shadow: 0px 1px 3px 1px rgba(0, 0, 0, 0.15);\n",
              "      filter: drop-shadow(0px 1px 2px rgba(0, 0, 0, 0.3));\n",
              "      fill: #FFFFFF;\n",
              "    }\n",
              "  </style>\n",
              "\n",
              "    <script>\n",
              "      const buttonEl =\n",
              "        document.querySelector('#df-26523cba-a137-4f83-9d77-04021d42ec54 button.colab-df-convert');\n",
              "      buttonEl.style.display =\n",
              "        google.colab.kernel.accessAllowed ? 'block' : 'none';\n",
              "\n",
              "      async function convertToInteractive(key) {\n",
              "        const element = document.querySelector('#df-26523cba-a137-4f83-9d77-04021d42ec54');\n",
              "        const dataTable =\n",
              "          await google.colab.kernel.invokeFunction('convertToInteractive',\n",
              "                                                    [key], {});\n",
              "        if (!dataTable) return;\n",
              "\n",
              "        const docLinkHtml = 'Like what you see? Visit the ' +\n",
              "          '<a target=\"_blank\" href=https://colab.research.google.com/notebooks/data_table.ipynb>data table notebook</a>'\n",
              "          + ' to learn more about interactive tables.';\n",
              "        element.innerHTML = '';\n",
              "        dataTable['output_type'] = 'display_data';\n",
              "        await google.colab.output.renderOutput(dataTable, element);\n",
              "        const docLink = document.createElement('div');\n",
              "        docLink.innerHTML = docLinkHtml;\n",
              "        element.appendChild(docLink);\n",
              "      }\n",
              "    </script>\n",
              "  </div>\n",
              "\n",
              "\n",
              "<div id=\"df-045d713a-54e4-40ca-8e02-67fbf7c1a4cf\">\n",
              "  <button class=\"colab-df-quickchart\" onclick=\"quickchart('df-045d713a-54e4-40ca-8e02-67fbf7c1a4cf')\"\n",
              "            title=\"Suggest charts\"\n",
              "            style=\"display:none;\">\n",
              "\n",
              "<svg xmlns=\"http://www.w3.org/2000/svg\" height=\"24px\"viewBox=\"0 0 24 24\"\n",
              "     width=\"24px\">\n",
              "    <g>\n",
              "        <path d=\"M19 3H5c-1.1 0-2 .9-2 2v14c0 1.1.9 2 2 2h14c1.1 0 2-.9 2-2V5c0-1.1-.9-2-2-2zM9 17H7v-7h2v7zm4 0h-2V7h2v10zm4 0h-2v-4h2v4z\"/>\n",
              "    </g>\n",
              "</svg>\n",
              "  </button>\n",
              "\n",
              "<style>\n",
              "  .colab-df-quickchart {\n",
              "      --bg-color: #E8F0FE;\n",
              "      --fill-color: #1967D2;\n",
              "      --hover-bg-color: #E2EBFA;\n",
              "      --hover-fill-color: #174EA6;\n",
              "      --disabled-fill-color: #AAA;\n",
              "      --disabled-bg-color: #DDD;\n",
              "  }\n",
              "\n",
              "  [theme=dark] .colab-df-quickchart {\n",
              "      --bg-color: #3B4455;\n",
              "      --fill-color: #D2E3FC;\n",
              "      --hover-bg-color: #434B5C;\n",
              "      --hover-fill-color: #FFFFFF;\n",
              "      --disabled-bg-color: #3B4455;\n",
              "      --disabled-fill-color: #666;\n",
              "  }\n",
              "\n",
              "  .colab-df-quickchart {\n",
              "    background-color: var(--bg-color);\n",
              "    border: none;\n",
              "    border-radius: 50%;\n",
              "    cursor: pointer;\n",
              "    display: none;\n",
              "    fill: var(--fill-color);\n",
              "    height: 32px;\n",
              "    padding: 0;\n",
              "    width: 32px;\n",
              "  }\n",
              "\n",
              "  .colab-df-quickchart:hover {\n",
              "    background-color: var(--hover-bg-color);\n",
              "    box-shadow: 0 1px 2px rgba(60, 64, 67, 0.3), 0 1px 3px 1px rgba(60, 64, 67, 0.15);\n",
              "    fill: var(--button-hover-fill-color);\n",
              "  }\n",
              "\n",
              "  .colab-df-quickchart-complete:disabled,\n",
              "  .colab-df-quickchart-complete:disabled:hover {\n",
              "    background-color: var(--disabled-bg-color);\n",
              "    fill: var(--disabled-fill-color);\n",
              "    box-shadow: none;\n",
              "  }\n",
              "\n",
              "  .colab-df-spinner {\n",
              "    border: 2px solid var(--fill-color);\n",
              "    border-color: transparent;\n",
              "    border-bottom-color: var(--fill-color);\n",
              "    animation:\n",
              "      spin 1s steps(1) infinite;\n",
              "  }\n",
              "\n",
              "  @keyframes spin {\n",
              "    0% {\n",
              "      border-color: transparent;\n",
              "      border-bottom-color: var(--fill-color);\n",
              "      border-left-color: var(--fill-color);\n",
              "    }\n",
              "    20% {\n",
              "      border-color: transparent;\n",
              "      border-left-color: var(--fill-color);\n",
              "      border-top-color: var(--fill-color);\n",
              "    }\n",
              "    30% {\n",
              "      border-color: transparent;\n",
              "      border-left-color: var(--fill-color);\n",
              "      border-top-color: var(--fill-color);\n",
              "      border-right-color: var(--fill-color);\n",
              "    }\n",
              "    40% {\n",
              "      border-color: transparent;\n",
              "      border-right-color: var(--fill-color);\n",
              "      border-top-color: var(--fill-color);\n",
              "    }\n",
              "    60% {\n",
              "      border-color: transparent;\n",
              "      border-right-color: var(--fill-color);\n",
              "    }\n",
              "    80% {\n",
              "      border-color: transparent;\n",
              "      border-right-color: var(--fill-color);\n",
              "      border-bottom-color: var(--fill-color);\n",
              "    }\n",
              "    90% {\n",
              "      border-color: transparent;\n",
              "      border-bottom-color: var(--fill-color);\n",
              "    }\n",
              "  }\n",
              "</style>\n",
              "\n",
              "  <script>\n",
              "    async function quickchart(key) {\n",
              "      const quickchartButtonEl =\n",
              "        document.querySelector('#' + key + ' button');\n",
              "      quickchartButtonEl.disabled = true;  // To prevent multiple clicks.\n",
              "      quickchartButtonEl.classList.add('colab-df-spinner');\n",
              "      try {\n",
              "        const charts = await google.colab.kernel.invokeFunction(\n",
              "            'suggestCharts', [key], {});\n",
              "      } catch (error) {\n",
              "        console.error('Error during call to suggestCharts:', error);\n",
              "      }\n",
              "      quickchartButtonEl.classList.remove('colab-df-spinner');\n",
              "      quickchartButtonEl.classList.add('colab-df-quickchart-complete');\n",
              "    }\n",
              "    (() => {\n",
              "      let quickchartButtonEl =\n",
              "        document.querySelector('#df-045d713a-54e4-40ca-8e02-67fbf7c1a4cf button');\n",
              "      quickchartButtonEl.style.display =\n",
              "        google.colab.kernel.accessAllowed ? 'block' : 'none';\n",
              "    })();\n",
              "  </script>\n",
              "</div>\n",
              "\n",
              "    </div>\n",
              "  </div>\n"
            ],
            "application/vnd.google.colaboratory.intrinsic+json": {
              "type": "dataframe",
              "variable_name": "df",
              "summary": "{\n  \"name\": \"df\",\n  \"rows\": 1511,\n  \"fields\": [\n    {\n      \"column\": \"Date\",\n      \"properties\": {\n        \"dtype\": \"date\",\n        \"min\": \"2015-01-02 00:00:00\",\n        \"max\": \"2020-12-31 00:00:00\",\n        \"num_unique_values\": 1511,\n        \"samples\": [\n          \"2018-08-09 00:00:00\",\n          \"2017-06-15 00:00:00\",\n          \"2020-07-06 00:00:00\"\n        ],\n        \"semantic_type\": \"\",\n        \"description\": \"\"\n      }\n    },\n    {\n      \"column\": \"Adj Close\",\n      \"properties\": {\n        \"dtype\": \"number\",\n        \"std\": 112.4924516551414,\n        \"min\": 28.733999,\n        \"max\": 705.669983,\n        \"num_unique_values\": 1472,\n        \"samples\": [\n          66.601997,\n          49.68,\n          149.899994\n        ],\n        \"semantic_type\": \"\",\n        \"description\": \"\"\n      }\n    }\n  ]\n}"
            }
          },
          "metadata": {},
          "execution_count": 5
        }
      ]
    },
    {
      "cell_type": "code",
      "source": [
        "# get number of rows and columns\n",
        "df.shape"
      ],
      "metadata": {
        "colab": {
          "base_uri": "https://localhost:8080/"
        },
        "id": "l1kexXJEGfEl",
        "outputId": "8989066a-1dde-4981-e174-1d8508b6ed19"
      },
      "execution_count": 6,
      "outputs": [
        {
          "output_type": "execute_result",
          "data": {
            "text/plain": [
              "(1511, 1)"
            ]
          },
          "metadata": {},
          "execution_count": 6
        }
      ]
    },
    {
      "cell_type": "code",
      "source": [
        "# visualize the Adj Close\n",
        "plt.figure(figsize=(10, 6))\n",
        "plt.plot(df['Adj Close'])\n",
        "plt.title('date vs adj close', fontsize=14)\n",
        "plt.xlabel('Year', fontsize=12)\n",
        "plt.ylabel('Adj Close', fontsize=12)\n",
        "plt.grid(True)\n",
        "plt.show()"
      ],
      "metadata": {
        "colab": {
          "base_uri": "https://localhost:8080/",
          "height": 593
        },
        "id": "35lo5u8aG9XA",
        "outputId": "ab97a533-1b1a-46d0-cce0-2da7507bae82"
      },
      "execution_count": 7,
      "outputs": [
        {
          "output_type": "display_data",
          "data": {
            "text/plain": [
              "<Figure size 1000x600 with 1 Axes>"
            ],
            "image/png": "[encoded data removed]"
          },
          "metadata": {}
        }
      ]
    },
    {
      "cell_type": "markdown",
      "source": [
        "Scaling"
      ],
      "metadata": {
        "id": "z62uOfIAypzM"
      }
    },
    {
      "cell_type": "code",
      "source": [
        "# Scale the data\n",
        "scaler = MinMaxScaler(feature_range=(0,1))\n",
        "data_scaled = scaler.fit_transform(df['Adj Close'].values.reshape(-1,1))\n",
        "#data_scaled\n",
        "plt.plot(data_scaled)\n",
        "plt.show()"
      ],
      "metadata": {
        "colab": {
          "base_uri": "https://localhost:8080/",
          "height": 449
        },
        "id": "iTqfH-4aHKmm",
        "outputId": "9542aa50-f968-445d-8ad6-88374950a065"
      },
      "execution_count": 8,
      "outputs": [
        {
          "output_type": "display_data",
          "data": {
            "text/plain": [
              "<Figure size 640x480 with 1 Axes>"
            ],
            "image/png": "[encoded data removed]"
          },
          "metadata": {}
        }
      ]
    },
    {
      "cell_type": "markdown",
      "source": [
        "Traing and Test data Spilitng"
      ],
      "metadata": {
        "id": "qm9oSyJuyuQ8"
      }
    },
    {
      "cell_type": "code",
      "source": [
        "#splilliting data\n",
        "train_end_date = pd.to_datetime('2019-06-30')  # End of training data (first 4 years + 6 months)\n",
        "test_start_date = pd.to_datetime('2019-07-01')\n",
        "train_data = data_scaled[df.index < train_end_date]\n",
        "test_data = data_scaled[df.index >= test_start_date]\n",
        "\n"
      ],
      "metadata": {
        "id": "N6ppVm4o9JPm"
      },
      "execution_count": 9,
      "outputs": []
    },
    {
      "cell_type": "code",
      "source": [
        "#convert an array of values into dataset matrix\n",
        "def prepare_data(data, time_steps):\n",
        "  dataX, dataY = [], []  # Initialize dataX and dataY as empty lists\n",
        "  for i in range(len(data)-time_steps-1):\n",
        "    a = data[i:(i+time_steps), 0]\n",
        "    dataX.append(a)  # Append to dataX instead of x\n",
        "    dataY.append(data[i+time_steps, 0])\n",
        "  return np.array(dataX), np.array(dataY) # Return the numpy arrays"
      ],
      "metadata": {
        "id": "jfdl-QuzKIsb"
      },
      "execution_count": 10,
      "outputs": []
    },
    {
      "cell_type": "code",
      "source": [
        "# reshape into x=t and y=t+1\n",
        "time_steps = 1\n",
        "trainX, trainY = prepare_data(train_data, time_steps)\n",
        "testX, testY = prepare_data(test_data, time_steps)\n"
      ],
      "metadata": {
        "id": "qNmO_cbXRnbq"
      },
      "execution_count": 11,
      "outputs": []
    },
    {
      "cell_type": "code",
      "source": [
        "# reshape input to 3D [samples,time,features]\n",
        "trainX = np.reshape(trainX, (trainX.shape[0],1, trainX.shape[1]))\n",
        "testX = np.reshape(testX, (testX.shape[0],1, testX.shape[1]))\n"
      ],
      "metadata": {
        "id": "RKlMxU8GS2yp"
      },
      "execution_count": 12,
      "outputs": []
    },
    {
      "cell_type": "markdown",
      "source": [
        "LSTM Model"
      ],
      "metadata": {
        "id": "y_FcOdWDy2mi"
      }
    },
    {
      "cell_type": "code",
      "source": [
        "# Build LSTM model\n",
        "model = Sequential()\n",
        "model.add(LSTM(4, input_shape=(1,time_steps)))\n",
        "model.add(Dense(1))\n",
        "model.compile(loss='mean_squared_error', optimizer='adam')\n",
        "model.fit(trainX, trainY, epochs=50, batch_size=1, verbose=2)\n",
        "model.summary()\n"
      ],
      "metadata": {
        "colab": {
          "base_uri": "https://localhost:8080/",
          "height": 1000
        },
        "id": "hUdEiIfkUBr3",
        "outputId": "30b8bcc3-c512-45ff-bdb5-f06bb6b1e087"
      },
      "execution_count": 13,
      "outputs": [
        {
          "output_type": "stream",
          "name": "stdout",
          "text": [
            "Epoch 1/50\n"
          ]
        },
        {
          "output_type": "stream",
          "name": "stderr",
          "text": [
            "/usr/local/lib/python3.10/dist-packages/keras/src/layers/rnn/rnn.py:204: UserWarning: Do not pass an `input_shape`/`input_dim` argument to a layer. When using Sequential models, prefer using an `Input(shape)` object as the first layer in the model instead.\n",
            "  super().__init__(**kwargs)\n"
          ]
        },
        {
          "output_type": "stream",
          "name": "stdout",
          "text": [
            "1128/1128 - 3s - 3ms/step - loss: 1.8400e-04\n",
            "Epoch 2/50\n",
            "1128/1128 - 1s - 1ms/step - loss: 3.8411e-05\n",
            "Epoch 3/50\n",
            "1128/1128 - 3s - 3ms/step - loss: 6.9645e-06\n",
            "Epoch 4/50\n",
            "1128/1128 - 2s - 2ms/step - loss: 7.0548e-06\n",
            "Epoch 5/50\n",
            "1128/1128 - 2s - 2ms/step - loss: 7.5192e-06\n",
            "Epoch 6/50\n",
            "1128/1128 - 3s - 2ms/step - loss: 7.2746e-06\n",
            "Epoch 7/50\n",
            "1128/1128 - 3s - 2ms/step - loss: 7.1589e-06\n",
            "Epoch 8/50\n",
            "1128/1128 - 1s - 1ms/step - loss: 7.3567e-06\n",
            "Epoch 9/50\n",
            "1128/1128 - 3s - 3ms/step - loss: 7.3694e-06\n",
            "Epoch 10/50\n",
            "1128/1128 - 3s - 2ms/step - loss: 7.2290e-06\n",
            "Epoch 11/50\n",
            "1128/1128 - 2s - 2ms/step - loss: 7.5213e-06\n",
            "Epoch 12/50\n",
            "1128/1128 - 3s - 2ms/step - loss: 7.0513e-06\n",
            "Epoch 13/50\n",
            "1128/1128 - 1s - 1ms/step - loss: 7.5561e-06\n",
            "Epoch 14/50\n",
            "1128/1128 - 2s - 1ms/step - loss: 7.3582e-06\n",
            "Epoch 15/50\n",
            "1128/1128 - 1s - 1ms/step - loss: 7.0702e-06\n",
            "Epoch 16/50\n",
            "1128/1128 - 3s - 3ms/step - loss: 7.6667e-06\n",
            "Epoch 17/50\n",
            "1128/1128 - 2s - 2ms/step - loss: 7.4117e-06\n",
            "Epoch 18/50\n",
            "1128/1128 - 2s - 2ms/step - loss: 7.7090e-06\n",
            "Epoch 19/50\n",
            "1128/1128 - 3s - 2ms/step - loss: 7.4711e-06\n",
            "Epoch 20/50\n",
            "1128/1128 - 3s - 2ms/step - loss: 7.2629e-06\n",
            "Epoch 21/50\n",
            "1128/1128 - 2s - 1ms/step - loss: 7.3964e-06\n",
            "Epoch 22/50\n",
            "1128/1128 - 2s - 1ms/step - loss: 7.3432e-06\n",
            "Epoch 23/50\n",
            "1128/1128 - 2s - 2ms/step - loss: 7.9908e-06\n",
            "Epoch 24/50\n",
            "1128/1128 - 2s - 2ms/step - loss: 7.3124e-06\n",
            "Epoch 25/50\n",
            "1128/1128 - 2s - 2ms/step - loss: 7.4006e-06\n",
            "Epoch 26/50\n",
            "1128/1128 - 3s - 2ms/step - loss: 7.6891e-06\n",
            "Epoch 27/50\n",
            "1128/1128 - 1s - 1ms/step - loss: 7.2693e-06\n",
            "Epoch 28/50\n",
            "1128/1128 - 3s - 2ms/step - loss: 7.0681e-06\n",
            "Epoch 29/50\n",
            "1128/1128 - 2s - 2ms/step - loss: 8.1642e-06\n",
            "Epoch 30/50\n",
            "1128/1128 - 3s - 3ms/step - loss: 7.5155e-06\n",
            "Epoch 31/50\n",
            "1128/1128 - 2s - 2ms/step - loss: 6.9213e-06\n",
            "Epoch 32/50\n",
            "1128/1128 - 3s - 2ms/step - loss: 7.0839e-06\n",
            "Epoch 33/50\n",
            "1128/1128 - 1s - 1ms/step - loss: 6.8821e-06\n",
            "Epoch 34/50\n",
            "1128/1128 - 3s - 2ms/step - loss: 7.6158e-06\n",
            "Epoch 35/50\n",
            "1128/1128 - 2s - 1ms/step - loss: 6.9489e-06\n",
            "Epoch 36/50\n",
            "1128/1128 - 2s - 2ms/step - loss: 7.3054e-06\n",
            "Epoch 37/50\n",
            "1128/1128 - 3s - 2ms/step - loss: 7.2613e-06\n",
            "Epoch 38/50\n",
            "1128/1128 - 2s - 2ms/step - loss: 6.6205e-06\n",
            "Epoch 39/50\n",
            "1128/1128 - 2s - 2ms/step - loss: 7.2386e-06\n",
            "Epoch 40/50\n",
            "1128/1128 - 2s - 1ms/step - loss: 7.2808e-06\n",
            "Epoch 41/50\n",
            "1128/1128 - 2s - 1ms/step - loss: 7.3484e-06\n",
            "Epoch 42/50\n",
            "1128/1128 - 2s - 2ms/step - loss: 7.2633e-06\n",
            "Epoch 43/50\n",
            "1128/1128 - 3s - 3ms/step - loss: 7.1242e-06\n",
            "Epoch 44/50\n",
            "1128/1128 - 2s - 2ms/step - loss: 6.9459e-06\n",
            "Epoch 45/50\n",
            "1128/1128 - 1s - 1ms/step - loss: 7.1361e-06\n",
            "Epoch 46/50\n",
            "1128/1128 - 1s - 1ms/step - loss: 7.4398e-06\n",
            "Epoch 47/50\n",
            "1128/1128 - 3s - 3ms/step - loss: 7.0011e-06\n",
            "Epoch 48/50\n",
            "1128/1128 - 2s - 1ms/step - loss: 7.3900e-06\n",
            "Epoch 49/50\n",
            "1128/1128 - 2s - 2ms/step - loss: 6.8869e-06\n",
            "Epoch 50/50\n",
            "1128/1128 - 2s - 2ms/step - loss: 7.1664e-06\n"
          ]
        },
        {
          "output_type": "display_data",
          "data": {
            "text/plain": [
              "\u001b[1mModel: \"sequential\"\u001b[0m\n"
            ],
            "text/html": [
              "<pre style=\"white-space:pre;overflow-x:auto;line-height:normal;font-family:Menlo,'DejaVu Sans Mono',consolas,'Courier New',monospace\"><span style=\"font-weight: bold\">Model: \"sequential\"</span>\n",
              "</pre>\n"
            ]
          },
          "metadata": {}
        },
        {
          "output_type": "display_data",
          "data": {
            "text/plain": [
              "┏━━━━━━━━━━━━━━━━━━━━━━━━━━━━━━━━━━━━━━┳━━━━━━━━━━━━━━━━━━━━━━━━━━━━━┳━━━━━━━━━━━━━━━━━┓\n",
              "┃\u001b[1m \u001b[0m\u001b[1mLayer (type)                        \u001b[0m\u001b[1m \u001b[0m┃\u001b[1m \u001b[0m\u001b[1mOutput Shape               \u001b[0m\u001b[1m \u001b[0m┃\u001b[1m \u001b[0m\u001b[1m        Param #\u001b[0m\u001b[1m \u001b[0m┃\n",
              "┡━━━━━━━━━━━━━━━━━━━━━━━━━━━━━━━━━━━━━━╇━━━━━━━━━━━━━━━━━━━━━━━━━━━━━╇━━━━━━━━━━━━━━━━━┩\n",
              "│ lstm (\u001b[38;5;33mLSTM\u001b[0m)                          │ (\u001b[38;5;45mNone\u001b[0m, \u001b[38;5;34m4\u001b[0m)                   │              \u001b[38;5;34m96\u001b[0m │\n",
              "├──────────────────────────────────────┼─────────────────────────────┼─────────────────┤\n",
              "│ dense (\u001b[38;5;33mDense\u001b[0m)                        │ (\u001b[38;5;45mNone\u001b[0m, \u001b[38;5;34m1\u001b[0m)                   │               \u001b[38;5;34m5\u001b[0m │\n",
              "└──────────────────────────────────────┴─────────────────────────────┴─────────────────┘\n"
            ],
            "text/html": [
              "<pre style=\"white-space:pre;overflow-x:auto;line-height:normal;font-family:Menlo,'DejaVu Sans Mono',consolas,'Courier New',monospace\">┏━━━━━━━━━━━━━━━━━━━━━━━━━━━━━━━━━━━━━━┳━━━━━━━━━━━━━━━━━━━━━━━━━━━━━┳━━━━━━━━━━━━━━━━━┓\n",
              "┃<span style=\"font-weight: bold\"> Layer (type)                         </span>┃<span style=\"font-weight: bold\"> Output Shape                </span>┃<span style=\"font-weight: bold\">         Param # </span>┃\n",
              "┡━━━━━━━━━━━━━━━━━━━━━━━━━━━━━━━━━━━━━━╇━━━━━━━━━━━━━━━━━━━━━━━━━━━━━╇━━━━━━━━━━━━━━━━━┩\n",
              "│ lstm (<span style=\"color: #0087ff; text-decoration-color: #0087ff\">LSTM</span>)                          │ (<span style=\"color: #00d7ff; text-decoration-color: #00d7ff\">None</span>, <span style=\"color: #00af00; text-decoration-color: #00af00\">4</span>)                   │              <span style=\"color: #00af00; text-decoration-color: #00af00\">96</span> │\n",
              "├──────────────────────────────────────┼─────────────────────────────┼─────────────────┤\n",
              "│ dense (<span style=\"color: #0087ff; text-decoration-color: #0087ff\">Dense</span>)                        │ (<span style=\"color: #00d7ff; text-decoration-color: #00d7ff\">None</span>, <span style=\"color: #00af00; text-decoration-color: #00af00\">1</span>)                   │               <span style=\"color: #00af00; text-decoration-color: #00af00\">5</span> │\n",
              "└──────────────────────────────────────┴─────────────────────────────┴─────────────────┘\n",
              "</pre>\n"
            ]
          },
          "metadata": {}
        },
        {
          "output_type": "display_data",
          "data": {
            "text/plain": [
              "\u001b[1m Total params: \u001b[0m\u001b[38;5;34m305\u001b[0m (1.20 KB)\n"
            ],
            "text/html": [
              "<pre style=\"white-space:pre;overflow-x:auto;line-height:normal;font-family:Menlo,'DejaVu Sans Mono',consolas,'Courier New',monospace\"><span style=\"font-weight: bold\"> Total params: </span><span style=\"color: #00af00; text-decoration-color: #00af00\">305</span> (1.20 KB)\n",
              "</pre>\n"
            ]
          },
          "metadata": {}
        },
        {
          "output_type": "display_data",
          "data": {
            "text/plain": [
              "\u001b[1m Trainable params: \u001b[0m\u001b[38;5;34m101\u001b[0m (404.00 B)\n"
            ],
            "text/html": [
              "<pre style=\"white-space:pre;overflow-x:auto;line-height:normal;font-family:Menlo,'DejaVu Sans Mono',consolas,'Courier New',monospace\"><span style=\"font-weight: bold\"> Trainable params: </span><span style=\"color: #00af00; text-decoration-color: #00af00\">101</span> (404.00 B)\n",
              "</pre>\n"
            ]
          },
          "metadata": {}
        },
        {
          "output_type": "display_data",
          "data": {
            "text/plain": [
              "\u001b[1m Non-trainable params: \u001b[0m\u001b[38;5;34m0\u001b[0m (0.00 B)\n"
            ],
            "text/html": [
              "<pre style=\"white-space:pre;overflow-x:auto;line-height:normal;font-family:Menlo,'DejaVu Sans Mono',consolas,'Courier New',monospace\"><span style=\"font-weight: bold\"> Non-trainable params: </span><span style=\"color: #00af00; text-decoration-color: #00af00\">0</span> (0.00 B)\n",
              "</pre>\n"
            ]
          },
          "metadata": {}
        },
        {
          "output_type": "display_data",
          "data": {
            "text/plain": [
              "\u001b[1m Optimizer params: \u001b[0m\u001b[38;5;34m204\u001b[0m (820.00 B)\n"
            ],
            "text/html": [
              "<pre style=\"white-space:pre;overflow-x:auto;line-height:normal;font-family:Menlo,'DejaVu Sans Mono',consolas,'Courier New',monospace\"><span style=\"font-weight: bold\"> Optimizer params: </span><span style=\"color: #00af00; text-decoration-color: #00af00\">204</span> (820.00 B)\n",
              "</pre>\n"
            ]
          },
          "metadata": {}
        }
      ]
    },
    {
      "cell_type": "markdown",
      "source": [
        "Predictions"
      ],
      "metadata": {
        "id": "y08B-3UWy66A"
      }
    },
    {
      "cell_type": "code",
      "source": [
        "# invert predictions\n",
        "trainPredict = model.predict(trainX)\n",
        "testPredict = model.predict(testX)\n",
        "trainPredict = scaler.inverse_transform(trainPredict)\n",
        "trainY = scaler.inverse_transform([trainY])\n",
        "testPredict = scaler.inverse_transform(testPredict)\n",
        "testY = scaler.inverse_transform([testY])"
      ],
      "metadata": {
        "colab": {
          "base_uri": "https://localhost:8080/"
        },
        "id": "gxXYzfS-YuQ8",
        "outputId": "78b5dbcd-3bd0-44bc-824a-6069100ea423"
      },
      "execution_count": 14,
      "outputs": [
        {
          "output_type": "stream",
          "name": "stdout",
          "text": [
            "\u001b[1m36/36\u001b[0m \u001b[32m━━━━━━━━━━━━━━━━━━━━\u001b[0m\u001b[37m\u001b[0m \u001b[1m1s\u001b[0m 8ms/step\n",
            "\u001b[1m12/12\u001b[0m \u001b[32m━━━━━━━━━━━━━━━━━━━━\u001b[0m\u001b[37m\u001b[0m \u001b[1m0s\u001b[0m 2ms/step \n"
          ]
        }
      ]
    },
    {
      "cell_type": "markdown",
      "source": [
        "Visualizing the LSTM model Performance"
      ],
      "metadata": {
        "id": "udlPiLF7zG7u"
      }
    },
    {
      "cell_type": "code",
      "source": [
        "#plot\n",
        "trainPredictplot = np.empty_like(data_scaled)\n",
        "trainPredictplot[:,:] = np.nan\n",
        "trainPredictplot[time_steps:len(trainPredict)+time_steps,:] = trainPredict\n",
        "testPredictplot = np.empty_like(data_scaled)\n",
        "testPredictplot[:,:] = np.nan\n",
        "test_start_index = len(train_data)\n",
        "testPredictplot[test_start_index : test_start_index + len(testPredict), :] = testPredict\n",
        "\n"
      ],
      "metadata": {
        "id": "zkofEV6oWlML"
      },
      "execution_count": 15,
      "outputs": []
    },
    {
      "cell_type": "code",
      "source": [
        "dates = pd.date_range(start=\"2015-01-01\", end=\"2020-12-31\", freq=\"D\") #dates for the entire dataset\n",
        "plt.figure(figsize=(10, 6))\n",
        "\n",
        "# Get the actual dates from your DataFrame's index\n",
        "actual_dates = df.index\n",
        "\n",
        "# Plot using the actual dates and corresponding scaled data\n",
        "plt.plot(actual_dates, scaler.inverse_transform(data_scaled), label=\"Actual Adj Close\")\n",
        "plt.plot(actual_dates[time_steps:len(trainPredict) + time_steps], trainPredictplot[time_steps:len(trainPredict) + time_steps, 0], label=\"Train Predict\")\n",
        "\n",
        "# Plot test predictions using the correct date range\n",
        "# Get the dates for the test data\n",
        "test_dates = actual_dates[test_start_index:test_start_index + len(testPredict)]\n",
        "\n",
        "# Plot the test predictions using test_dates\n",
        "plt.plot(test_dates, testPredictplot[test_start_index:test_start_index + len(testPredict), 0], label=\"Test Predict\")\n",
        "\n",
        "plt.title(\"Date vs Adj Close\", fontsize=14)\n",
        "plt.xlabel(\"Year\", fontsize=12)\n",
        "plt.ylabel(\"Adj Close\", fontsize=12)\n",
        "plt.grid(True)\n",
        "plt.legend()\n",
        "plt.show()"
      ],
      "metadata": {
        "colab": {
          "base_uri": "https://localhost:8080/",
          "height": 593
        },
        "id": "WyDKLvkjDW5F",
        "outputId": "9e39f10b-3484-478a-ef8a-cd1d105580a9"
      },
      "execution_count": 16,
      "outputs": [
        {
          "output_type": "display_data",
          "data": {
            "text/plain": [
              "<Figure size 1000x600 with 1 Axes>"
            ],
            "image/png": "[encoded data removed]"
          },
          "metadata": {}
        }
      ]
    },
    {
      "cell_type": "markdown",
      "source": [
        "Caluclating Metrics"
      ],
      "metadata": {
        "id": "GfpsZrpx0iFI"
      }
    },
    {
      "cell_type": "code",
      "source": [
        "mse = mean_squared_error(trainY[0], trainPredict[:,0])\n",
        "print(\"MSE:\", mse)\n",
        "mae = mean_absolute_error(trainY[0], trainPredict[:,0])\n",
        "print(\"MAE:\", mae)\n",
        "r2 = r2_score(trainY[0], trainPredict[:,0])\n",
        "print(\"R2:\", r2)\n",
        "rmse = math.sqrt(mse)\n",
        "print(\"RMSE:\", rmse)"
      ],
      "metadata": {
        "colab": {
          "base_uri": "https://localhost:8080/"
        },
        "id": "jPE6J5m_0pyY",
        "outputId": "631c2175-362e-411b-be98-ba9cdfd19812"
      },
      "execution_count": 18,
      "outputs": [
        {
          "output_type": "stream",
          "name": "stdout",
          "text": [
            "MSE: 4.501731764651807\n",
            "MAE: 1.7146696034819693\n",
            "R2: 0.9634482447601928\n",
            "RMSE: 2.1217284851393705\n"
          ]
        }
      ]
    },
    {
      "cell_type": "code",
      "source": [
        "test_predictions_df = pd.DataFrame({'Date': test_dates, 'Predicted Adj Close': testPredict[:,0]})\n",
        "test_predictions_df.to_csv('/content/drive/MyDrive/test_predictions.csv', index=False)\n"
      ],
      "metadata": {
        "id": "1M1G93T3gQyz"
      },
      "execution_count": null,
      "outputs": []
    },
    {
      "cell_type": "code",
      "source": [],
      "metadata": {
        "id": "n6jglozTpomG"
      },
      "execution_count": null,
      "outputs": []
    }
  ]
}